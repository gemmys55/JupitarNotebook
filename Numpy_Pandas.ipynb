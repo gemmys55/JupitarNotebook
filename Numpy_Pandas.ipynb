{
 "cells": [
  {
   "cell_type": "code",
   "execution_count": null,
   "id": "72c5b7e6-b21b-4246-a41a-ff958af028a1",
   "metadata": {},
   "outputs": [],
   "source": [
    "# Exercise 1:  Create a numpy array containing the numbers from 1 to 10, and then reshape it to a 2x5 matrix."
   ]
  },
  {
   "cell_type": "code",
   "execution_count": 1,
   "id": "eaf2d059-8ec8-435e-9285-425935544461",
   "metadata": {},
   "outputs": [],
   "source": [
    "import numpy as np"
   ]
  },
  {
   "cell_type": "code",
   "execution_count": 25,
   "id": "80962dd6-0132-4e57-90e7-67ed4e7da07e",
   "metadata": {},
   "outputs": [
    {
     "name": "stdout",
     "output_type": "stream",
     "text": [
      "Output:\n",
      " [[ 1  2  3  4  5]\n",
      " [ 6  7  8  9 10]]\n"
     ]
    }
   ],
   "source": [
    "# Create a numpy array from 1 to 10 and reshape it to a 2x5 matrix\n",
    "array = np.arange(1, 11).reshape(2, 5)\n",
    "print(\"Output:\\n\", array)"
   ]
  },
  {
   "cell_type": "code",
   "execution_count": null,
   "id": "d1bd9577-520c-466c-aa7e-a8587a2d2b29",
   "metadata": {},
   "outputs": [],
   "source": [
    "# Exercise 2:  Create a numpy array containing the numbers from 1 to 20,and then extract the elements between the 5th and 15th index"
   ]
  },
  {
   "cell_type": "code",
   "execution_count": 27,
   "id": "14141718-f801-4db8-aff8-8b357d1e7981",
   "metadata": {},
   "outputs": [
    {
     "name": "stdout",
     "output_type": "stream",
     "text": [
      "Output:\n",
      " [ 6  7  8  9 10 11 12 13 14 15 16]\n"
     ]
    }
   ],
   "source": [
    "# Create a numpy array from 1 to 20 and extract elements between the 5th and 15th index\n",
    "array = np.arange(1, 21)\n",
    "extracted_elements = array[5:16]\n",
    "print(\"Output:\\n\", extracted_elements)\n"
   ]
  },
  {
   "cell_type": "code",
   "execution_count": null,
   "id": "754b455f-fe36-456b-9702-ca138b2d8c22",
   "metadata": {},
   "outputs": [],
   "source": [
    "#  Exercise 3:  Create a Pandas series with the following data: {'apples': 3, 'bananas': 2, 'oranges': 1}. Then, add a new item to the series with the key 'pears' and the value 4.\n"
   ]
  },
  {
   "cell_type": "code",
   "execution_count": 7,
   "id": "d3f2f8a2-1947-4d38-9771-25a99f6c1f12",
   "metadata": {},
   "outputs": [],
   "source": [
    "import pandas as pd"
   ]
  },
  {
   "cell_type": "code",
   "execution_count": 29,
   "id": "61433bea-4923-480b-8265-990cc54d6b49",
   "metadata": {},
   "outputs": [
    {
     "name": "stdout",
     "output_type": "stream",
     "text": [
      "Output:\n",
      " apples     3\n",
      "bananas    2\n",
      "oranges    1\n",
      "pears      4\n",
      "dtype: int64\n"
     ]
    }
   ],
   "source": [
    "# Create a pandas series and add a new item\n",
    "data = {'apples': 3, 'bananas': 2, 'oranges': 1}\n",
    "series = pd.Series(data)\n",
    "series['pears'] = 4\n",
    "print(\"Output:\\n\", series)"
   ]
  },
  {
   "cell_type": "code",
   "execution_count": null,
   "id": "757bda68-3620-4bc0-b865-eff3afaa8d01",
   "metadata": {},
   "outputs": [],
   "source": [
    "# Exercise 4:  Create a dataframe with the following columns: name, age, and gender. The dataframe should have 10 rows of data."
   ]
  },
  {
   "cell_type": "code",
   "execution_count": 31,
   "id": "34c3ae44-6034-42bd-bc4f-f2eaef5ad604",
   "metadata": {},
   "outputs": [
    {
     "name": "stdout",
     "output_type": "stream",
     "text": [
      "Output:\n",
      "       name  age gender\n",
      "0    Alice   25      F\n",
      "1      Bob   30      M\n",
      "2  Charlie   22      M\n",
      "3    David   35      M\n",
      "4      Eva   29      F\n",
      "5    Frank   40      M\n",
      "6    Grace   33      F\n",
      "7   Hannah   27      F\n",
      "8      Ian   45      M\n",
      "9    Julia   31      F\n"
     ]
    }
   ],
   "source": [
    "# Create a dataframe with name, age, and gender columns\n",
    "data = {\n",
    "    'name': ['Alice', 'Bob', 'Charlie', 'David', 'Eva', 'Frank', 'Grace', 'Hannah', 'Ian', 'Julia'],\n",
    "    'age': [25, 30, 22, 35, 29, 40, 33, 27, 45, 31],\n",
    "    'gender': ['F', 'M', 'M', 'M', 'F', 'M', 'F', 'F', 'M', 'F']\n",
    "}\n",
    "df = pd.DataFrame(data)\n",
    "print(\"Output:\\n\", df)\n"
   ]
  },
  {
   "cell_type": "code",
   "execution_count": 13,
   "id": "9b154391-ab7a-464d-94b3-ea8a21a3de5c",
   "metadata": {},
   "outputs": [],
   "source": [
    "# Exercise 5:  Add a new column to the data frame created in question 1, called occupation. The values for this column should be Programmer, Manager, and Analyst, corresponding to the rows in the dataframe."
   ]
  },
  {
   "cell_type": "code",
   "execution_count": 33,
   "id": "2efc3b52-7476-41c8-a54b-4858b9c1c429",
   "metadata": {},
   "outputs": [
    {
     "name": "stdout",
     "output_type": "stream",
     "text": [
      "Output:\n",
      "       name  age gender  occupation\n",
      "0    Alice   25      F  Programmer\n",
      "1      Bob   30      M     Manager\n",
      "2  Charlie   22      M     Analyst\n",
      "3    David   35      M  Programmer\n",
      "4      Eva   29      F     Manager\n",
      "5    Frank   40      M     Analyst\n",
      "6    Grace   33      F  Programmer\n",
      "7   Hannah   27      F     Manager\n",
      "8      Ian   45      M     Analyst\n",
      "9    Julia   31      F  Programmer\n"
     ]
    }
   ],
   "source": [
    "# Add a new column 'occupation'\n",
    "df['occupation'] = ['Programmer', 'Manager', 'Analyst', 'Programmer', 'Manager', \n",
    "                    'Analyst', 'Programmer', 'Manager', 'Analyst', 'Programmer']\n",
    "print(\"Output:\\n\", df)\n"
   ]
  },
  {
   "cell_type": "code",
   "execution_count": 17,
   "id": "d0f95203-efe7-4f1b-80ee-e63fabba1c92",
   "metadata": {},
   "outputs": [],
   "source": [
    "# Exercise 6:  Select the rows of the dataframe where the age is greater than or equal to 30. \n"
   ]
  },
  {
   "cell_type": "code",
   "execution_count": 35,
   "id": "3565dff3-71a6-4e35-b208-d93c15ae4413",
   "metadata": {},
   "outputs": [
    {
     "name": "stdout",
     "output_type": "stream",
     "text": [
      "Output:\n",
      "     name  age gender  occupation\n",
      "1    Bob   30      M     Manager\n",
      "3  David   35      M  Programmer\n",
      "5  Frank   40      M     Analyst\n",
      "6  Grace   33      F  Programmer\n",
      "8    Ian   45      M     Analyst\n",
      "9  Julia   31      F  Programmer\n"
     ]
    }
   ],
   "source": [
    "# Select rows where age >= 30\n",
    "filtered_df = df[df['age'] >= 30]\n",
    "print(\"Output:\\n\", filtered_df)\n"
   ]
  },
  {
   "cell_type": "code",
   "execution_count": 21,
   "id": "8b975d80-2adc-4b36-b4e0-e72ea2cd0c4f",
   "metadata": {},
   "outputs": [],
   "source": [
    "# Exercise 7:  Convert this dataframe to a csv file and read that csv file, finally display the contents."
   ]
  },
  {
   "cell_type": "code",
   "execution_count": 37,
   "id": "078f4c86-830b-4c0d-95e8-18e76976ebb5",
   "metadata": {},
   "outputs": [
    {
     "name": "stdout",
     "output_type": "stream",
     "text": [
      "Output:\n",
      "       name  age gender  occupation\n",
      "0    Alice   25      F  Programmer\n",
      "1      Bob   30      M     Manager\n",
      "2  Charlie   22      M     Analyst\n",
      "3    David   35      M  Programmer\n",
      "4      Eva   29      F     Manager\n",
      "5    Frank   40      M     Analyst\n",
      "6    Grace   33      F  Programmer\n",
      "7   Hannah   27      F     Manager\n",
      "8      Ian   45      M     Analyst\n",
      "9    Julia   31      F  Programmer\n"
     ]
    }
   ],
   "source": [
    "# Save dataframe to a CSV file and read it back\n",
    "df.to_csv('dataframe.csv', index=False)\n",
    "read_df = pd.read_csv('dataframe.csv')\n",
    "print(\"Output:\\n\", read_df)\n"
   ]
  },
  {
   "cell_type": "code",
   "execution_count": null,
   "id": "dcae7444-1167-4b40-aa5b-8cd5c6a7d097",
   "metadata": {},
   "outputs": [],
   "source": []
  }
 ],
 "metadata": {
  "kernelspec": {
   "display_name": "Python 3 (ipykernel)",
   "language": "python",
   "name": "python3"
  },
  "language_info": {
   "codemirror_mode": {
    "name": "ipython",
    "version": 3
   },
   "file_extension": ".py",
   "mimetype": "text/x-python",
   "name": "python",
   "nbconvert_exporter": "python",
   "pygments_lexer": "ipython3",
   "version": "3.12.4"
  }
 },
 "nbformat": 4,
 "nbformat_minor": 5
}
